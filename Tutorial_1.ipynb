{
  "nbformat": 4,
  "nbformat_minor": 0,
  "metadata": {
    "colab": {
      "name": "Tutorial 1.ipynb",
      "version": "0.3.2",
      "provenance": [],
      "collapsed_sections": [],
      "include_colab_link": true
    },
    "kernelspec": {
      "name": "python3",
      "display_name": "Python 3"
    }
  },
  "cells": [
    {
      "cell_type": "markdown",
      "metadata": {
        "id": "view-in-github",
        "colab_type": "text"
      },
      "source": [
        "<a href=\"https://colab.research.google.com/github/shantanusingh16/optimization/blob/master/Tutorial_1.ipynb\" target=\"_parent\"><img src=\"https://colab.research.google.com/assets/colab-badge.svg\" alt=\"Open In Colab\"/></a>"
      ]
    },
    {
      "cell_type": "markdown",
      "metadata": {
        "id": "jgeCzIC6QcJe",
        "colab_type": "text"
      },
      "source": [
        "##Question 1"
      ]
    },
    {
      "cell_type": "code",
      "metadata": {
        "id": "--gqmnX7Mikf",
        "colab_type": "code",
        "colab": {}
      },
      "source": [
        "import scipy.linalg as linalg\n",
        "import numpy as np\n",
        "import matplotlib.pyplot as plt\n",
        "import seaborn as sns"
      ],
      "execution_count": 0,
      "outputs": []
    },
    {
      "cell_type": "code",
      "metadata": {
        "id": "W9grC1HIPoCN",
        "colab_type": "code",
        "colab": {}
      },
      "source": [
        "A = np.array([[2,1,1], [1,3,2], [1,0,0]])\n",
        "B = np.array([4,5,6])"
      ],
      "execution_count": 0,
      "outputs": []
    },
    {
      "cell_type": "code",
      "metadata": {
        "id": "Z3P2SJvZPzJ6",
        "colab_type": "code",
        "colab": {}
      },
      "source": [
        "Q,R = linalg.qr(A)"
      ],
      "execution_count": 0,
      "outputs": []
    },
    {
      "cell_type": "code",
      "metadata": {
        "id": "Y4XLlKfyP2NO",
        "colab_type": "code",
        "colab": {}
      },
      "source": [
        "y = np.dot(Q.T, B)"
      ],
      "execution_count": 0,
      "outputs": []
    },
    {
      "cell_type": "code",
      "metadata": {
        "id": "afCaW1ewP5ef",
        "colab_type": "code",
        "colab": {}
      },
      "source": [
        "x = linalg.solve(R, y)"
      ],
      "execution_count": 0,
      "outputs": []
    },
    {
      "cell_type": "code",
      "metadata": {
        "id": "m_fffUMdQLnU",
        "colab_type": "code",
        "colab": {
          "base_uri": "https://localhost:8080/",
          "height": 34
        },
        "outputId": "6ff56604-8787-4f88-f00e-e714c1aeaef5"
      },
      "source": [
        "x"
      ],
      "execution_count": 8,
      "outputs": [
        {
          "output_type": "execute_result",
          "data": {
            "text/plain": [
              "array([  6.,  15., -23.])"
            ]
          },
          "metadata": {
            "tags": []
          },
          "execution_count": 8
        }
      ]
    },
    {
      "cell_type": "markdown",
      "metadata": {
        "id": "fhVBxGnFQlZz",
        "colab_type": "text"
      },
      "source": [
        "## Question 2"
      ]
    },
    {
      "cell_type": "code",
      "metadata": {
        "id": "ZZV4zA8oQmsW",
        "colab_type": "code",
        "colab": {}
      },
      "source": [
        "A = np.array([[8,3,-2], [-4,7,5], [3,4,-12]])\n",
        "b = np.array([9,15,35])\n",
        "x = np.linalg.solve(A,b)"
      ],
      "execution_count": 0,
      "outputs": []
    },
    {
      "cell_type": "code",
      "metadata": {
        "id": "UcP3W5AcQ0n9",
        "colab_type": "code",
        "colab": {
          "base_uri": "https://localhost:8080/",
          "height": 34
        },
        "outputId": "6c2357ad-e47c-4ca0-bd48-92833e36d954"
      },
      "source": [
        "x"
      ],
      "execution_count": 10,
      "outputs": [
        {
          "output_type": "execute_result",
          "data": {
            "text/plain": [
              "array([-0.58226371,  3.22870478, -1.98599767])"
            ]
          },
          "metadata": {
            "tags": []
          },
          "execution_count": 10
        }
      ]
    },
    {
      "cell_type": "markdown",
      "metadata": {
        "id": "JkBaBvb3Q9bO",
        "colab_type": "text"
      },
      "source": [
        "## Question 3"
      ]
    },
    {
      "cell_type": "code",
      "metadata": {
        "id": "F_08ypGHQ-ly",
        "colab_type": "code",
        "colab": {}
      },
      "source": [
        "A = np.array([[0,1,2,3], [1,1,1,1]])\n",
        "A = A.T\n",
        "b = np.array([-1, 0.2, 0.9, 2.1])\n",
        "\n",
        "m,c = linalg.lstsq(A, b)[0]"
      ],
      "execution_count": 0,
      "outputs": []
    },
    {
      "cell_type": "code",
      "metadata": {
        "id": "42NnJdUHRvy3",
        "colab_type": "code",
        "colab": {
          "base_uri": "https://localhost:8080/",
          "height": 269
        },
        "outputId": "bd73a2b3-e840-4d20-c5f5-cc9a8564b2c3"
      },
      "source": [
        "x = np.array([0,1,2,3])\n",
        "plt.plot(x, b, 'o', label='Original data')\n",
        "plt.plot(x, m*x + c, 'r', label='Fitted Line')\n",
        "plt.legend()\n",
        "plt.show()"
      ],
      "execution_count": 16,
      "outputs": [
        {
          "output_type": "display_data",
          "data": {
            "image/png": "[encoded data removed]",
            "text/plain": [
              "<Figure size 432x288 with 1 Axes>"
            ]
          },
          "metadata": {
            "tags": []
          }
        }
      ]
    },
    {
      "cell_type": "code",
      "metadata": {
        "id": "PrITIeXOR4gD",
        "colab_type": "code",
        "colab": {}
      },
      "source": [
        ""
      ],
      "execution_count": 0,
      "outputs": []
    }
  ]
}